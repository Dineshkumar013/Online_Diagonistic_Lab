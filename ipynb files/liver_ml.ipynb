{
  "nbformat": 4,
  "nbformat_minor": 0,
  "metadata": {
    "colab": {
      "name": "Untitled35.ipynb",
      "provenance": []
    },
    "kernelspec": {
      "name": "python3",
      "display_name": "Python 3"
    },
    "language_info": {
      "name": "python"
    }
  },
  "cells": [
    {
      "cell_type": "code",
      "metadata": {
        "id": "XL9g22ZHPLMP"
      },
      "source": [
        "# Importing the required Libraries.\n",
        "import pandas as pd\n",
        "import numpy as np\n",
        "import sys\n",
        "import os\n",
        "import time\n",
        "#ignore warnings\n",
        "import warnings\n",
        "warnings.filterwarnings('ignore')\n",
        "from sklearn.metrics import accuracy_score\n",
        "from sklearn.metrics import roc_curve\n",
        "from sklearn.metrics import roc_auc_score"
      ],
      "execution_count": 19,
      "outputs": []
    },
    {
      "cell_type": "code",
      "metadata": {
        "id": "sOs4dzXG9lI6"
      },
      "source": [
        "#Common Model Helpers\n",
        "from sklearn.preprocessing import OneHotEncoder, LabelEncoder\n",
        "from sklearn import model_selection\n",
        "from sklearn import metrics\n",
        "\n",
        "#Visualization\n",
        "import matplotlib.pyplot as plt\n",
        "import seaborn as sns\n",
        "\n",
        "\n",
        "from sklearn.model_selection import train_test_split\n",
        "#Configure Visualization Defaults\n",
        "#%matplotlib inline = show plots in Jupyter Notebook browser\n",
        "%matplotlib inline\n",
        "sns.set_style('white')\n",
        "\n",
        "from sklearn.model_selection import cross_val_score"
      ],
      "execution_count": 13,
      "outputs": []
    },
    {
      "cell_type": "code",
      "metadata": {
        "id": "rQMSGQNp9pzH",
        "outputId": "051c5220-99a6-45a5-9cc0-b8799859c180",
        "colab": {
          "base_uri": "https://localhost:8080/",
          "height": 317
        }
      },
      "source": [
        "df = pd.read_csv('/content/Indian Liver Patient Dataset (ILPD).csv')\n",
        "df.describe()\n"
      ],
      "execution_count": 4,
      "outputs": [
        {
          "output_type": "execute_result",
          "data": {
            "text/html": [
              "<div>\n",
              "<style scoped>\n",
              "    .dataframe tbody tr th:only-of-type {\n",
              "        vertical-align: middle;\n",
              "    }\n",
              "\n",
              "    .dataframe tbody tr th {\n",
              "        vertical-align: top;\n",
              "    }\n",
              "\n",
              "    .dataframe thead th {\n",
              "        text-align: right;\n",
              "    }\n",
              "</style>\n",
              "<table border=\"1\" class=\"dataframe\">\n",
              "  <thead>\n",
              "    <tr style=\"text-align: right;\">\n",
              "      <th></th>\n",
              "      <th>age</th>\n",
              "      <th>tot_bilirubin</th>\n",
              "      <th>direct_bilirubin</th>\n",
              "      <th>tot_proteins</th>\n",
              "      <th>albumin</th>\n",
              "      <th>ag_ratio</th>\n",
              "      <th>sgpt</th>\n",
              "      <th>sgot</th>\n",
              "      <th>alkphos</th>\n",
              "      <th>is_patient</th>\n",
              "    </tr>\n",
              "  </thead>\n",
              "  <tbody>\n",
              "    <tr>\n",
              "      <th>count</th>\n",
              "      <td>583.000000</td>\n",
              "      <td>583.000000</td>\n",
              "      <td>583.000000</td>\n",
              "      <td>583.000000</td>\n",
              "      <td>583.000000</td>\n",
              "      <td>583.000000</td>\n",
              "      <td>583.000000</td>\n",
              "      <td>583.000000</td>\n",
              "      <td>579.000000</td>\n",
              "      <td>583.000000</td>\n",
              "    </tr>\n",
              "    <tr>\n",
              "      <th>mean</th>\n",
              "      <td>44.746141</td>\n",
              "      <td>3.298799</td>\n",
              "      <td>1.486106</td>\n",
              "      <td>290.576329</td>\n",
              "      <td>80.713551</td>\n",
              "      <td>109.910806</td>\n",
              "      <td>6.483190</td>\n",
              "      <td>3.141852</td>\n",
              "      <td>0.947064</td>\n",
              "      <td>1.286449</td>\n",
              "    </tr>\n",
              "    <tr>\n",
              "      <th>std</th>\n",
              "      <td>16.189833</td>\n",
              "      <td>6.209522</td>\n",
              "      <td>2.808498</td>\n",
              "      <td>242.937989</td>\n",
              "      <td>182.620356</td>\n",
              "      <td>288.918529</td>\n",
              "      <td>1.085451</td>\n",
              "      <td>0.795519</td>\n",
              "      <td>0.319592</td>\n",
              "      <td>0.452490</td>\n",
              "    </tr>\n",
              "    <tr>\n",
              "      <th>min</th>\n",
              "      <td>4.000000</td>\n",
              "      <td>0.400000</td>\n",
              "      <td>0.100000</td>\n",
              "      <td>63.000000</td>\n",
              "      <td>10.000000</td>\n",
              "      <td>10.000000</td>\n",
              "      <td>2.700000</td>\n",
              "      <td>0.900000</td>\n",
              "      <td>0.300000</td>\n",
              "      <td>1.000000</td>\n",
              "    </tr>\n",
              "    <tr>\n",
              "      <th>25%</th>\n",
              "      <td>33.000000</td>\n",
              "      <td>0.800000</td>\n",
              "      <td>0.200000</td>\n",
              "      <td>175.500000</td>\n",
              "      <td>23.000000</td>\n",
              "      <td>25.000000</td>\n",
              "      <td>5.800000</td>\n",
              "      <td>2.600000</td>\n",
              "      <td>0.700000</td>\n",
              "      <td>1.000000</td>\n",
              "    </tr>\n",
              "    <tr>\n",
              "      <th>50%</th>\n",
              "      <td>45.000000</td>\n",
              "      <td>1.000000</td>\n",
              "      <td>0.300000</td>\n",
              "      <td>208.000000</td>\n",
              "      <td>35.000000</td>\n",
              "      <td>42.000000</td>\n",
              "      <td>6.600000</td>\n",
              "      <td>3.100000</td>\n",
              "      <td>0.930000</td>\n",
              "      <td>1.000000</td>\n",
              "    </tr>\n",
              "    <tr>\n",
              "      <th>75%</th>\n",
              "      <td>58.000000</td>\n",
              "      <td>2.600000</td>\n",
              "      <td>1.300000</td>\n",
              "      <td>298.000000</td>\n",
              "      <td>60.500000</td>\n",
              "      <td>87.000000</td>\n",
              "      <td>7.200000</td>\n",
              "      <td>3.800000</td>\n",
              "      <td>1.100000</td>\n",
              "      <td>2.000000</td>\n",
              "    </tr>\n",
              "    <tr>\n",
              "      <th>max</th>\n",
              "      <td>90.000000</td>\n",
              "      <td>75.000000</td>\n",
              "      <td>19.700000</td>\n",
              "      <td>2110.000000</td>\n",
              "      <td>2000.000000</td>\n",
              "      <td>4929.000000</td>\n",
              "      <td>9.600000</td>\n",
              "      <td>5.500000</td>\n",
              "      <td>2.800000</td>\n",
              "      <td>2.000000</td>\n",
              "    </tr>\n",
              "  </tbody>\n",
              "</table>\n",
              "</div>"
            ],
            "text/plain": [
              "              age  tot_bilirubin  ...     alkphos  is_patient\n",
              "count  583.000000     583.000000  ...  579.000000  583.000000\n",
              "mean    44.746141       3.298799  ...    0.947064    1.286449\n",
              "std     16.189833       6.209522  ...    0.319592    0.452490\n",
              "min      4.000000       0.400000  ...    0.300000    1.000000\n",
              "25%     33.000000       0.800000  ...    0.700000    1.000000\n",
              "50%     45.000000       1.000000  ...    0.930000    1.000000\n",
              "75%     58.000000       2.600000  ...    1.100000    2.000000\n",
              "max     90.000000      75.000000  ...    2.800000    2.000000\n",
              "\n",
              "[8 rows x 10 columns]"
            ]
          },
          "metadata": {},
          "execution_count": 4
        }
      ]
    },
    {
      "cell_type": "code",
      "metadata": {
        "id": "SyspzgBu_-Ep",
        "outputId": "a8416f18-02dd-49a6-a20d-ee9b4562a308",
        "colab": {
          "base_uri": "https://localhost:8080/",
          "height": 204
        }
      },
      "source": [
        "df.head()"
      ],
      "execution_count": 7,
      "outputs": [
        {
          "output_type": "execute_result",
          "data": {
            "text/html": [
              "<div>\n",
              "<style scoped>\n",
              "    .dataframe tbody tr th:only-of-type {\n",
              "        vertical-align: middle;\n",
              "    }\n",
              "\n",
              "    .dataframe tbody tr th {\n",
              "        vertical-align: top;\n",
              "    }\n",
              "\n",
              "    .dataframe thead th {\n",
              "        text-align: right;\n",
              "    }\n",
              "</style>\n",
              "<table border=\"1\" class=\"dataframe\">\n",
              "  <thead>\n",
              "    <tr style=\"text-align: right;\">\n",
              "      <th></th>\n",
              "      <th>age</th>\n",
              "      <th>gender</th>\n",
              "      <th>tot_bilirubin</th>\n",
              "      <th>direct_bilirubin</th>\n",
              "      <th>tot_proteins</th>\n",
              "      <th>albumin</th>\n",
              "      <th>ag_ratio</th>\n",
              "      <th>sgpt</th>\n",
              "      <th>sgot</th>\n",
              "      <th>alkphos</th>\n",
              "      <th>is_patient</th>\n",
              "    </tr>\n",
              "  </thead>\n",
              "  <tbody>\n",
              "    <tr>\n",
              "      <th>0</th>\n",
              "      <td>65</td>\n",
              "      <td>Female</td>\n",
              "      <td>0.7</td>\n",
              "      <td>0.1</td>\n",
              "      <td>187</td>\n",
              "      <td>16</td>\n",
              "      <td>18</td>\n",
              "      <td>6.8</td>\n",
              "      <td>3.3</td>\n",
              "      <td>0.90</td>\n",
              "      <td>1</td>\n",
              "    </tr>\n",
              "    <tr>\n",
              "      <th>1</th>\n",
              "      <td>62</td>\n",
              "      <td>Male</td>\n",
              "      <td>10.9</td>\n",
              "      <td>5.5</td>\n",
              "      <td>699</td>\n",
              "      <td>64</td>\n",
              "      <td>100</td>\n",
              "      <td>7.5</td>\n",
              "      <td>3.2</td>\n",
              "      <td>0.74</td>\n",
              "      <td>1</td>\n",
              "    </tr>\n",
              "    <tr>\n",
              "      <th>2</th>\n",
              "      <td>62</td>\n",
              "      <td>Male</td>\n",
              "      <td>7.3</td>\n",
              "      <td>4.1</td>\n",
              "      <td>490</td>\n",
              "      <td>60</td>\n",
              "      <td>68</td>\n",
              "      <td>7.0</td>\n",
              "      <td>3.3</td>\n",
              "      <td>0.89</td>\n",
              "      <td>1</td>\n",
              "    </tr>\n",
              "    <tr>\n",
              "      <th>3</th>\n",
              "      <td>58</td>\n",
              "      <td>Male</td>\n",
              "      <td>1.0</td>\n",
              "      <td>0.4</td>\n",
              "      <td>182</td>\n",
              "      <td>14</td>\n",
              "      <td>20</td>\n",
              "      <td>6.8</td>\n",
              "      <td>3.4</td>\n",
              "      <td>1.00</td>\n",
              "      <td>1</td>\n",
              "    </tr>\n",
              "    <tr>\n",
              "      <th>4</th>\n",
              "      <td>72</td>\n",
              "      <td>Male</td>\n",
              "      <td>3.9</td>\n",
              "      <td>2.0</td>\n",
              "      <td>195</td>\n",
              "      <td>27</td>\n",
              "      <td>59</td>\n",
              "      <td>7.3</td>\n",
              "      <td>2.4</td>\n",
              "      <td>0.40</td>\n",
              "      <td>1</td>\n",
              "    </tr>\n",
              "  </tbody>\n",
              "</table>\n",
              "</div>"
            ],
            "text/plain": [
              "   age  gender  tot_bilirubin  ...  sgot  alkphos  is_patient\n",
              "0   65  Female            0.7  ...   3.3     0.90           1\n",
              "1   62    Male           10.9  ...   3.2     0.74           1\n",
              "2   62    Male            7.3  ...   3.3     0.89           1\n",
              "3   58    Male            1.0  ...   3.4     1.00           1\n",
              "4   72    Male            3.9  ...   2.4     0.40           1\n",
              "\n",
              "[5 rows x 11 columns]"
            ]
          },
          "metadata": {},
          "execution_count": 7
        }
      ]
    },
    {
      "cell_type": "code",
      "metadata": {
        "id": "ZRdcNg6M9zQW",
        "outputId": "79ecc8f6-279c-4a6f-d226-8d6c81e1569b",
        "colab": {
          "base_uri": "https://localhost:8080/"
        }
      },
      "source": [
        "print(df.columns)\n",
        "print('*'*50)\n",
        "for i in df.columns :\n",
        "    print(i)\n",
        "    print(df[i].describe())\n",
        "    print('*'*50)"
      ],
      "execution_count": 5,
      "outputs": [
        {
          "output_type": "stream",
          "name": "stdout",
          "text": [
            "Index(['age', 'gender', 'tot_bilirubin', 'direct_bilirubin', 'tot_proteins',\n",
            "       'albumin', 'ag_ratio', 'sgpt', 'sgot', 'alkphos', 'is_patient'],\n",
            "      dtype='object')\n",
            "**************************************************\n",
            "age\n",
            "count    583.000000\n",
            "mean      44.746141\n",
            "std       16.189833\n",
            "min        4.000000\n",
            "25%       33.000000\n",
            "50%       45.000000\n",
            "75%       58.000000\n",
            "max       90.000000\n",
            "Name: age, dtype: float64\n",
            "**************************************************\n",
            "gender\n",
            "count      583\n",
            "unique       2\n",
            "top       Male\n",
            "freq       441\n",
            "Name: gender, dtype: object\n",
            "**************************************************\n",
            "tot_bilirubin\n",
            "count    583.000000\n",
            "mean       3.298799\n",
            "std        6.209522\n",
            "min        0.400000\n",
            "25%        0.800000\n",
            "50%        1.000000\n",
            "75%        2.600000\n",
            "max       75.000000\n",
            "Name: tot_bilirubin, dtype: float64\n",
            "**************************************************\n",
            "direct_bilirubin\n",
            "count    583.000000\n",
            "mean       1.486106\n",
            "std        2.808498\n",
            "min        0.100000\n",
            "25%        0.200000\n",
            "50%        0.300000\n",
            "75%        1.300000\n",
            "max       19.700000\n",
            "Name: direct_bilirubin, dtype: float64\n",
            "**************************************************\n",
            "tot_proteins\n",
            "count     583.000000\n",
            "mean      290.576329\n",
            "std       242.937989\n",
            "min        63.000000\n",
            "25%       175.500000\n",
            "50%       208.000000\n",
            "75%       298.000000\n",
            "max      2110.000000\n",
            "Name: tot_proteins, dtype: float64\n",
            "**************************************************\n",
            "albumin\n",
            "count     583.000000\n",
            "mean       80.713551\n",
            "std       182.620356\n",
            "min        10.000000\n",
            "25%        23.000000\n",
            "50%        35.000000\n",
            "75%        60.500000\n",
            "max      2000.000000\n",
            "Name: albumin, dtype: float64\n",
            "**************************************************\n",
            "ag_ratio\n",
            "count     583.000000\n",
            "mean      109.910806\n",
            "std       288.918529\n",
            "min        10.000000\n",
            "25%        25.000000\n",
            "50%        42.000000\n",
            "75%        87.000000\n",
            "max      4929.000000\n",
            "Name: ag_ratio, dtype: float64\n",
            "**************************************************\n",
            "sgpt\n",
            "count    583.000000\n",
            "mean       6.483190\n",
            "std        1.085451\n",
            "min        2.700000\n",
            "25%        5.800000\n",
            "50%        6.600000\n",
            "75%        7.200000\n",
            "max        9.600000\n",
            "Name: sgpt, dtype: float64\n",
            "**************************************************\n",
            "sgot\n",
            "count    583.000000\n",
            "mean       3.141852\n",
            "std        0.795519\n",
            "min        0.900000\n",
            "25%        2.600000\n",
            "50%        3.100000\n",
            "75%        3.800000\n",
            "max        5.500000\n",
            "Name: sgot, dtype: float64\n",
            "**************************************************\n",
            "alkphos\n",
            "count    579.000000\n",
            "mean       0.947064\n",
            "std        0.319592\n",
            "min        0.300000\n",
            "25%        0.700000\n",
            "50%        0.930000\n",
            "75%        1.100000\n",
            "max        2.800000\n",
            "Name: alkphos, dtype: float64\n",
            "**************************************************\n",
            "is_patient\n",
            "count    583.000000\n",
            "mean       1.286449\n",
            "std        0.452490\n",
            "min        1.000000\n",
            "25%        1.000000\n",
            "50%        1.000000\n",
            "75%        2.000000\n",
            "max        2.000000\n",
            "Name: is_patient, dtype: float64\n",
            "**************************************************\n"
          ]
        }
      ]
    },
    {
      "cell_type": "code",
      "metadata": {
        "id": "wFq_dc8u9z89",
        "outputId": "4562f12f-1641-4c6e-e758-c0f85c75d918",
        "colab": {
          "base_uri": "https://localhost:8080/",
          "height": 173
        }
      },
      "source": [
        "df[df['alkphos'].isnull()]"
      ],
      "execution_count": 8,
      "outputs": [
        {
          "output_type": "execute_result",
          "data": {
            "text/html": [
              "<div>\n",
              "<style scoped>\n",
              "    .dataframe tbody tr th:only-of-type {\n",
              "        vertical-align: middle;\n",
              "    }\n",
              "\n",
              "    .dataframe tbody tr th {\n",
              "        vertical-align: top;\n",
              "    }\n",
              "\n",
              "    .dataframe thead th {\n",
              "        text-align: right;\n",
              "    }\n",
              "</style>\n",
              "<table border=\"1\" class=\"dataframe\">\n",
              "  <thead>\n",
              "    <tr style=\"text-align: right;\">\n",
              "      <th></th>\n",
              "      <th>age</th>\n",
              "      <th>gender</th>\n",
              "      <th>tot_bilirubin</th>\n",
              "      <th>direct_bilirubin</th>\n",
              "      <th>tot_proteins</th>\n",
              "      <th>albumin</th>\n",
              "      <th>ag_ratio</th>\n",
              "      <th>sgpt</th>\n",
              "      <th>sgot</th>\n",
              "      <th>alkphos</th>\n",
              "      <th>is_patient</th>\n",
              "    </tr>\n",
              "  </thead>\n",
              "  <tbody>\n",
              "    <tr>\n",
              "      <th>209</th>\n",
              "      <td>45</td>\n",
              "      <td>Female</td>\n",
              "      <td>0.9</td>\n",
              "      <td>0.3</td>\n",
              "      <td>189</td>\n",
              "      <td>23</td>\n",
              "      <td>33</td>\n",
              "      <td>6.6</td>\n",
              "      <td>3.9</td>\n",
              "      <td>NaN</td>\n",
              "      <td>1</td>\n",
              "    </tr>\n",
              "    <tr>\n",
              "      <th>241</th>\n",
              "      <td>51</td>\n",
              "      <td>Male</td>\n",
              "      <td>0.8</td>\n",
              "      <td>0.2</td>\n",
              "      <td>230</td>\n",
              "      <td>24</td>\n",
              "      <td>46</td>\n",
              "      <td>6.5</td>\n",
              "      <td>3.1</td>\n",
              "      <td>NaN</td>\n",
              "      <td>1</td>\n",
              "    </tr>\n",
              "    <tr>\n",
              "      <th>253</th>\n",
              "      <td>35</td>\n",
              "      <td>Female</td>\n",
              "      <td>0.6</td>\n",
              "      <td>0.2</td>\n",
              "      <td>180</td>\n",
              "      <td>12</td>\n",
              "      <td>15</td>\n",
              "      <td>5.2</td>\n",
              "      <td>2.7</td>\n",
              "      <td>NaN</td>\n",
              "      <td>2</td>\n",
              "    </tr>\n",
              "    <tr>\n",
              "      <th>312</th>\n",
              "      <td>27</td>\n",
              "      <td>Male</td>\n",
              "      <td>1.3</td>\n",
              "      <td>0.6</td>\n",
              "      <td>106</td>\n",
              "      <td>25</td>\n",
              "      <td>54</td>\n",
              "      <td>8.5</td>\n",
              "      <td>4.8</td>\n",
              "      <td>NaN</td>\n",
              "      <td>2</td>\n",
              "    </tr>\n",
              "  </tbody>\n",
              "</table>\n",
              "</div>"
            ],
            "text/plain": [
              "     age  gender  tot_bilirubin  ...  sgot  alkphos  is_patient\n",
              "209   45  Female            0.9  ...   3.9      NaN           1\n",
              "241   51    Male            0.8  ...   3.1      NaN           1\n",
              "253   35  Female            0.6  ...   2.7      NaN           2\n",
              "312   27    Male            1.3  ...   4.8      NaN           2\n",
              "\n",
              "[4 rows x 11 columns]"
            ]
          },
          "metadata": {},
          "execution_count": 8
        }
      ]
    },
    {
      "cell_type": "code",
      "metadata": {
        "id": "0A9CY2M995Pq"
      },
      "source": [
        "# Dropping Null Values\n",
        "df = df.dropna()\n",
        "# Changing the values in \"Liver_Disease\" column \n",
        "df['is_patient'] = df['is_patient'] - 1 \n",
        "# Converting Gender column into categorical data \n",
        "LabelEncoder = LabelEncoder()\n",
        "df['Is_male'] = LabelEncoder.fit_transform(df['gender'])\n",
        "df = df.drop(columns='gender')"
      ],
      "execution_count": 10,
      "outputs": []
    },
    {
      "cell_type": "code",
      "metadata": {
        "id": "J6iSsbivAe2H",
        "outputId": "3d74c151-062a-4e1e-f935-34acf2bcc65f",
        "colab": {
          "base_uri": "https://localhost:8080/",
          "height": 204
        }
      },
      "source": [
        "df.head()\n"
      ],
      "execution_count": 11,
      "outputs": [
        {
          "output_type": "execute_result",
          "data": {
            "text/html": [
              "<div>\n",
              "<style scoped>\n",
              "    .dataframe tbody tr th:only-of-type {\n",
              "        vertical-align: middle;\n",
              "    }\n",
              "\n",
              "    .dataframe tbody tr th {\n",
              "        vertical-align: top;\n",
              "    }\n",
              "\n",
              "    .dataframe thead th {\n",
              "        text-align: right;\n",
              "    }\n",
              "</style>\n",
              "<table border=\"1\" class=\"dataframe\">\n",
              "  <thead>\n",
              "    <tr style=\"text-align: right;\">\n",
              "      <th></th>\n",
              "      <th>age</th>\n",
              "      <th>tot_bilirubin</th>\n",
              "      <th>direct_bilirubin</th>\n",
              "      <th>tot_proteins</th>\n",
              "      <th>albumin</th>\n",
              "      <th>ag_ratio</th>\n",
              "      <th>sgpt</th>\n",
              "      <th>sgot</th>\n",
              "      <th>alkphos</th>\n",
              "      <th>is_patient</th>\n",
              "      <th>Is_male</th>\n",
              "    </tr>\n",
              "  </thead>\n",
              "  <tbody>\n",
              "    <tr>\n",
              "      <th>0</th>\n",
              "      <td>65</td>\n",
              "      <td>0.7</td>\n",
              "      <td>0.1</td>\n",
              "      <td>187</td>\n",
              "      <td>16</td>\n",
              "      <td>18</td>\n",
              "      <td>6.8</td>\n",
              "      <td>3.3</td>\n",
              "      <td>0.90</td>\n",
              "      <td>0</td>\n",
              "      <td>0</td>\n",
              "    </tr>\n",
              "    <tr>\n",
              "      <th>1</th>\n",
              "      <td>62</td>\n",
              "      <td>10.9</td>\n",
              "      <td>5.5</td>\n",
              "      <td>699</td>\n",
              "      <td>64</td>\n",
              "      <td>100</td>\n",
              "      <td>7.5</td>\n",
              "      <td>3.2</td>\n",
              "      <td>0.74</td>\n",
              "      <td>0</td>\n",
              "      <td>1</td>\n",
              "    </tr>\n",
              "    <tr>\n",
              "      <th>2</th>\n",
              "      <td>62</td>\n",
              "      <td>7.3</td>\n",
              "      <td>4.1</td>\n",
              "      <td>490</td>\n",
              "      <td>60</td>\n",
              "      <td>68</td>\n",
              "      <td>7.0</td>\n",
              "      <td>3.3</td>\n",
              "      <td>0.89</td>\n",
              "      <td>0</td>\n",
              "      <td>1</td>\n",
              "    </tr>\n",
              "    <tr>\n",
              "      <th>3</th>\n",
              "      <td>58</td>\n",
              "      <td>1.0</td>\n",
              "      <td>0.4</td>\n",
              "      <td>182</td>\n",
              "      <td>14</td>\n",
              "      <td>20</td>\n",
              "      <td>6.8</td>\n",
              "      <td>3.4</td>\n",
              "      <td>1.00</td>\n",
              "      <td>0</td>\n",
              "      <td>1</td>\n",
              "    </tr>\n",
              "    <tr>\n",
              "      <th>4</th>\n",
              "      <td>72</td>\n",
              "      <td>3.9</td>\n",
              "      <td>2.0</td>\n",
              "      <td>195</td>\n",
              "      <td>27</td>\n",
              "      <td>59</td>\n",
              "      <td>7.3</td>\n",
              "      <td>2.4</td>\n",
              "      <td>0.40</td>\n",
              "      <td>0</td>\n",
              "      <td>1</td>\n",
              "    </tr>\n",
              "  </tbody>\n",
              "</table>\n",
              "</div>"
            ],
            "text/plain": [
              "   age  tot_bilirubin  direct_bilirubin  ...  alkphos  is_patient  Is_male\n",
              "0   65            0.7               0.1  ...     0.90           0        0\n",
              "1   62           10.9               5.5  ...     0.74           0        1\n",
              "2   62            7.3               4.1  ...     0.89           0        1\n",
              "3   58            1.0               0.4  ...     1.00           0        1\n",
              "4   72            3.9               2.0  ...     0.40           0        1\n",
              "\n",
              "[5 rows x 11 columns]"
            ]
          },
          "metadata": {},
          "execution_count": 11
        }
      ]
    },
    {
      "cell_type": "code",
      "metadata": {
        "id": "xOL_HbJhBi01"
      },
      "source": [
        "x = df.drop(\"is_patient\", axis = 1)\n",
        "y = df['is_patient']\n",
        "\n",
        "# splitting the data into training and test set for each cluster one by one\n",
        "x_train, x_test, y_train, y_test = train_test_split(x, y, test_size=0.2, random_state=100)"
      ],
      "execution_count": 14,
      "outputs": []
    },
    {
      "cell_type": "code",
      "metadata": {
        "id": "4zcYcvWqCMme",
        "outputId": "fe580663-733d-4272-c21b-3bc2c43ff7cd",
        "colab": {
          "base_uri": "https://localhost:8080/"
        }
      },
      "source": [
        "from sklearn.ensemble import RandomForestClassifier\n",
        "model = RandomForestClassifier(random_state=10)\n",
        "\n",
        "model.fit(x_train,y_train)"
      ],
      "execution_count": 17,
      "outputs": [
        {
          "output_type": "execute_result",
          "data": {
            "text/plain": [
              "RandomForestClassifier(bootstrap=True, ccp_alpha=0.0, class_weight=None,\n",
              "                       criterion='gini', max_depth=None, max_features='auto',\n",
              "                       max_leaf_nodes=None, max_samples=None,\n",
              "                       min_impurity_decrease=0.0, min_impurity_split=None,\n",
              "                       min_samples_leaf=1, min_samples_split=2,\n",
              "                       min_weight_fraction_leaf=0.0, n_estimators=100,\n",
              "                       n_jobs=None, oob_score=False, random_state=10, verbose=0,\n",
              "                       warm_start=False)"
            ]
          },
          "metadata": {},
          "execution_count": 17
        }
      ]
    },
    {
      "cell_type": "code",
      "metadata": {
        "id": "rLEldfhECNBf"
      },
      "source": [
        "y_pred=model.predict(x_test)\n"
      ],
      "execution_count": 18,
      "outputs": []
    },
    {
      "cell_type": "code",
      "metadata": {
        "id": "nUBp4xyoCUgQ",
        "outputId": "6d266906-a97e-452f-9d4f-ce0af4044ed1",
        "colab": {
          "base_uri": "https://localhost:8080/"
        }
      },
      "source": [
        "print(accuracy_score(y_pred,y_test)*100)"
      ],
      "execution_count": 20,
      "outputs": [
        {
          "output_type": "stream",
          "name": "stdout",
          "text": [
            "61.206896551724135\n"
          ]
        }
      ]
    },
    {
      "cell_type": "code",
      "metadata": {
        "id": "4pq1dECgCiqn"
      },
      "source": [
        "from sklearn.tree import DecisionTreeClassifier\n",
        "dtree = DecisionTreeClassifier(max_depth = None , random_state = 1 , max_features = None, min_samples_leaf =20)\n",
        "dtree.fit(x_train,y_train)\n",
        "y_pred_dtree = dtree.predict(x_test)"
      ],
      "execution_count": 21,
      "outputs": []
    },
    {
      "cell_type": "code",
      "metadata": {
        "id": "eA-a_x3rCtr7",
        "outputId": "de3cec35-4ee7-4d81-d340-654921978632",
        "colab": {
          "base_uri": "https://localhost:8080/"
        }
      },
      "source": [
        "print(accuracy_score(y_pred_dtree,y_test)*100)"
      ],
      "execution_count": 22,
      "outputs": [
        {
          "output_type": "stream",
          "name": "stdout",
          "text": [
            "67.24137931034483\n"
          ]
        }
      ]
    },
    {
      "cell_type": "code",
      "metadata": {
        "id": "wFvG9f-9C1eP",
        "outputId": "1af411c0-0a42-4147-f23a-38d2b674ff2f",
        "colab": {
          "base_uri": "https://localhost:8080/"
        }
      },
      "source": [
        "from sklearn import preprocessing\n",
        "X_scaler = preprocessing.normalize(df)\n",
        "X_train, X_test, y_train, y_test = model_selection.train_test_split(X_scaler, y, random_state = 0)\n",
        "\n",
        "print(\"Train Shape: {}\".format(X_train.shape))\n",
        "print(\"Test Shape: {}\".format(X_test.shape))"
      ],
      "execution_count": 24,
      "outputs": [
        {
          "output_type": "stream",
          "name": "stdout",
          "text": [
            "Train Shape: (434, 11)\n",
            "Test Shape: (145, 11)\n"
          ]
        }
      ]
    },
    {
      "cell_type": "code",
      "metadata": {
        "id": "RCWlcgBlDfGS",
        "outputId": "bad4e31d-4c87-4281-fb94-9c0b5e65803b",
        "colab": {
          "base_uri": "https://localhost:8080/"
        }
      },
      "source": [
        "# Use score method to get accuracy of model\n",
        "# Logistic Regression\n",
        "from sklearn.linear_model import LogisticRegression\n",
        "lr = LogisticRegression()\n",
        "lr.fit(X_train,y_train)\n",
        "y_pred = lr.predict(X_test)\n",
        "score = lr.score(X_test, y_test)\n",
        "print(\"Score of the model is - \",score)\n",
        "print(\"Report card of this model - \")\n",
        "print(metrics.classification_report(y_test, y_pred, digits=3))\n",
        "print(\"Accuracy score - \", metrics.accuracy_score(y_test,y_pred))"
      ],
      "execution_count": 26,
      "outputs": [
        {
          "output_type": "stream",
          "name": "stdout",
          "text": [
            "Score of the model is -  0.7172413793103448\n",
            "Report card of this model - \n",
            "              precision    recall  f1-score   support\n",
            "\n",
            "           0      0.717     1.000     0.835       104\n",
            "           1      0.000     0.000     0.000        41\n",
            "\n",
            "    accuracy                          0.717       145\n",
            "   macro avg      0.359     0.500     0.418       145\n",
            "weighted avg      0.514     0.717     0.599       145\n",
            "\n",
            "Accuracy score -  0.7172413793103448\n"
          ]
        }
      ]
    },
    {
      "cell_type": "code",
      "metadata": {
        "id": "ItOCNJAgDpZF",
        "outputId": "b7e58f84-c3d2-42ac-f1e3-d847e20d5943",
        "colab": {
          "base_uri": "https://localhost:8080/"
        }
      },
      "source": [
        "from sklearn.tree import DecisionTreeClassifier\n",
        "dtree = DecisionTreeClassifier(max_depth = None , random_state = 1 , max_features = None, min_samples_leaf =20)\n",
        "dtree.fit(X_train,y_train)\n",
        "y_pred_dtree = dtree.predict(X_test)\n",
        "score = dtree.score(X_test, y_test)\n",
        "print(\"Score of the model is - \",score)\n",
        "print(\"Report card of this model - \")\n",
        "print(metrics.classification_report(y_test, y_pred_dtree, digits=3))\n",
        "print(\"Accuracy score - \", metrics.accuracy_score(y_test,y_pred_dtree))"
      ],
      "execution_count": 27,
      "outputs": [
        {
          "output_type": "stream",
          "name": "stdout",
          "text": [
            "Score of the model is -  1.0\n",
            "Report card of this model - \n",
            "              precision    recall  f1-score   support\n",
            "\n",
            "           0      1.000     1.000     1.000       104\n",
            "           1      1.000     1.000     1.000        41\n",
            "\n",
            "    accuracy                          1.000       145\n",
            "   macro avg      1.000     1.000     1.000       145\n",
            "weighted avg      1.000     1.000     1.000       145\n",
            "\n",
            "Accuracy score -  1.0\n"
          ]
        }
      ]
    },
    {
      "cell_type": "code",
      "metadata": {
        "id": "QrMyRZ6zD4VR",
        "outputId": "b40ada11-cbab-4078-9e32-dc1771a8e984",
        "colab": {
          "base_uri": "https://localhost:8080/"
        }
      },
      "source": [
        "y_pred_dtree = dtree.predict(X_test)\n",
        "print(accuracy_score(y_pred_dtree,y_test)*100)"
      ],
      "execution_count": 29,
      "outputs": [
        {
          "output_type": "stream",
          "name": "stdout",
          "text": [
            "100.0\n"
          ]
        }
      ]
    },
    {
      "cell_type": "code",
      "metadata": {
        "id": "9UTMUDwdEHkX"
      },
      "source": [
        "import pickle\n",
        "\n",
        "pickle.dump(model1,open(\"LIVER.pkl\",\"wb\"))"
      ],
      "execution_count": 32,
      "outputs": []
    },
    {
      "cell_type": "code",
      "metadata": {
        "id": "KjDBrbGcEoL5"
      },
      "source": [
        ""
      ],
      "execution_count": null,
      "outputs": []
    }
  ]
}